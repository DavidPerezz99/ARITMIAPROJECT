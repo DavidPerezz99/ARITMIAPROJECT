{
 "cells": [
  {
   "cell_type": "code",
   "execution_count": 33,
   "id": "090a2a40-b41b-4d69-bf87-ee4302094abe",
   "metadata": {},
   "outputs": [],
   "source": [
    "import pandas as pd \n",
    "import numpy as np\n",
    "import pylab as pl\n",
    "import scipy.optimize as opt\n",
    "import matplotlib.pyplot as plt\n",
    "import seaborn as sns\n",
    "from scikitlearn import preprocessing\n",
    "from sklearn.model_selection import train_test_split\n",
    "from sklearn.linear_model import LogisticRegression\n",
    "from sklearn.neighbors import KNeighborsClassifier\n",
    "from sklearn.tree import DecisionTreeClassifier\n",
    "from sklearn.svm import SVC\n",
    "from sklearn import svm\n",
    "from sklearn.metrics import confusion_matrix\n",
    "from sklearn.model_selection import GridSearchCV\n",
    "from sklearn.metrics import classification_report\n",
    "#from sklearn.metrics import jaccard_score\n",
    "from sklearn.metrics import log_loss\n",
    "from sklearn import metrics\n",
    "from IPython.display import display, clear_output\n",
    "import ipywidgets as widgets\n",
    "import itertools\n",
    "%matplotlib inline "
   ]
  },
  {
   "cell_type": "markdown",
   "id": "2400bc78-baa1-42b3-a0d8-a90c782bcd2c",
   "metadata": {},
   "source": [
    "# DATA PROCESSING "
   ]
  },
  {
   "cell_type": "code",
   "execution_count": 9,
   "id": "fc34b9eb-3969-4974-9ed3-0b9ccd1bb24a",
   "metadata": {},
   "outputs": [
    {
     "name": "stderr",
     "output_type": "stream",
     "text": [
      "/home/jupyterlab/conda/envs/python/lib/python3.7/site-packages/ipykernel_launcher.py:7: SettingWithCopyWarning: \n",
      "A value is trying to be set on a copy of a slice from a DataFrame.\n",
      "Try using .loc[row_indexer,col_indexer] = value instead\n",
      "\n",
      "See the caveats in the documentation: https://pandas.pydata.org/pandas-docs/stable/user_guide/indexing.html#returning-a-view-versus-a-copy\n",
      "  import sys\n",
      "/home/jupyterlab/conda/envs/python/lib/python3.7/site-packages/sklearn/preprocessing/data.py:625: DataConversionWarning: Data with input dtype int64, float64 were all converted to float64 by StandardScaler.\n",
      "  return self.partial_fit(X, y)\n"
     ]
    }
   ],
   "source": [
    "data = pd.read_csv(\"heart.csv\")\n",
    "data[\"Sex\"].replace({\"M\":1,\"F\":0}, inplace = True )\n",
    "data[\"ST_Slope\"].replace({\"Up\":1,\"Flat\":0,\"Down\":-1,}, inplace = True)\n",
    "data[\"RestingECG\"].replace({\"Normal\":0,\"ST\":1,\"LVH\":-1,}, inplace = True)\n",
    "data[\"ChestPainType\"].replace({\"ASY\":0,\"ATA\":2,\"NAP\":-1,\"TA\":1}, inplace = True)\n",
    "model_data = data[['Age','Sex','ChestPainType','RestingBP','Cholesterol','FastingBS','RestingECG','MaxHR','Oldpeak','ST_Slope','HeartDisease']]\n",
    "model_data['HeartDisease'] = model_data['HeartDisease'].astype('int')\n",
    "X = model_data[['Age','Sex','ChestPainType','RestingBP','Cholesterol','FastingBS','RestingECG','MaxHR','Oldpeak','ST_Slope']]\n",
    "Y = model_data['HeartDisease']\n",
    "X = preprocessing.StandardScaler().fit(X).transform(X.astype(float))"
   ]
  },
  {
   "cell_type": "markdown",
   "id": "1c670200-29da-4fd2-9d81-94e3baee0354",
   "metadata": {},
   "source": [
    "# TRAIN TEST SPLIT "
   ]
  },
  {
   "cell_type": "code",
   "execution_count": 10,
   "id": "016ff009-9491-406f-a8cc-541a946faeee",
   "metadata": {},
   "outputs": [
    {
     "name": "stdout",
     "output_type": "stream",
     "text": [
      "Train set: (734, 10) (734,)\n",
      "Test set: (184, 10) (184,)\n"
     ]
    }
   ],
   "source": [
    "X_train, X_test, y_train, y_test = train_test_split( X, Y, test_size=0.2, random_state=4)\n",
    "print ('Train set:', X_train.shape,  y_train.shape)\n",
    "print ('Test set:', X_test.shape,  y_test.shape)"
   ]
  },
  {
   "cell_type": "markdown",
   "id": "501b98d5-7998-4037-a0a7-6b040350f6a5",
   "metadata": {},
   "source": [
    "# LOGISTIC REGRESSION "
   ]
  },
  {
   "cell_type": "code",
   "execution_count": 4,
   "id": "cd878b1f-aeb0-4339-9a1b-605d5db573d9",
   "metadata": {},
   "outputs": [],
   "source": [
    "#tuned hyperparameters :(best parameters)  {'C': 1, 'penalty': 'l2', 'solver': 'lbfgs'}\n",
    "#accuracy : 0.8256130790190735\n",
    "#Accuracy on test data is: 0.859"
   ]
  },
  {
   "cell_type": "code",
   "execution_count": 11,
   "id": "cb23dbc5-91cd-41e7-99c3-30813bfaf4d3",
   "metadata": {},
   "outputs": [],
   "source": [
    "LR = LogisticRegression(C=1, penalty = 'l2',solver='lbfgs').fit(X_train,y_train)"
   ]
  },
  {
   "cell_type": "code",
   "execution_count": 12,
   "id": "bba25daa-654b-4503-97b7-537ebccf2b7f",
   "metadata": {},
   "outputs": [
    {
     "name": "stderr",
     "output_type": "stream",
     "text": [
      "/home/jupyterlab/conda/envs/python/lib/python3.7/site-packages/sklearn/linear_model/base.py:283: DeprecationWarning: `np.int` is a deprecated alias for the builtin `int`. To silence this warning, use `int` by itself. Doing this will not modify any behavior and is safe. When replacing `np.int`, you may wish to use e.g. `np.int64` or `np.int32` to specify the precision. If you wish to review your current use, check the release note link for additional information.\n",
      "Deprecated in NumPy 1.20; for more details and guidance: https://numpy.org/devdocs/release/1.20.0-notes.html#deprecations\n",
      "  indices = (scores > 0).astype(np.int)\n"
     ]
    }
   ],
   "source": [
    "yhat = LR.predict(X_test)\n",
    "yhat_prob = LR.predict_proba(X_test)"
   ]
  },
  {
   "cell_type": "markdown",
   "id": "8464fdae-dfeb-4c1e-9bec-5705980fd40f",
   "metadata": {},
   "source": [
    "### JACCARD SCORE "
   ]
  },
  {
   "cell_type": "code",
   "execution_count": 13,
   "id": "d68574c0-6ce0-450a-8e1a-a9c97b182b42",
   "metadata": {},
   "outputs": [],
   "source": [
    "#jaccard_score(y_test, yhat,pos_label=0)"
   ]
  },
  {
   "cell_type": "markdown",
   "id": "659e4454-5c53-44eb-a2d5-0c1fac974dfa",
   "metadata": {},
   "source": [
    "### CONFUSION MATRIX"
   ]
  },
  {
   "cell_type": "code",
   "execution_count": 14,
   "id": "6d75d42b-9160-4e27-a9ec-ff89459aec45",
   "metadata": {},
   "outputs": [
    {
     "name": "stdout",
     "output_type": "stream",
     "text": [
      "[[84 12]\n",
      " [14 74]]\n"
     ]
    }
   ],
   "source": [
    "def plot_confusion_matrix(cm, classes,\n",
    "                          normalize=False,\n",
    "                          title='Confusion matrix',\n",
    "                          cmap=plt.cm.Blues):\n",
    "    \"\"\"\n",
    "    This function prints and plots the confusion matrix.\n",
    "    Normalization can be applied by setting `normalize=True`.\n",
    "    \"\"\"\n",
    "    if normalize:\n",
    "        cm = cm.astype('float') / cm.sum(axis=1)[:, np.newaxis]\n",
    "        print(\"Normalized confusion matrix\")\n",
    "    else:\n",
    "        print('Confusion matrix, without normalization')\n",
    "\n",
    "    print(cm)\n",
    "\n",
    "    plt.imshow(cm, interpolation='nearest', cmap=cmap)\n",
    "    plt.title(title)\n",
    "    plt.colorbar()\n",
    "    tick_marks = np.arange(len(classes))\n",
    "    plt.xticks(tick_marks, classes, rotation=45)\n",
    "    plt.yticks(tick_marks, classes)\n",
    "\n",
    "    fmt = '.2f' if normalize else 'd'\n",
    "    thresh = cm.max() / 2.\n",
    "    for i, j in itertools.product(range(cm.shape[0]), range(cm.shape[1])):\n",
    "        plt.text(j, i, format(cm[i, j], fmt),\n",
    "                 horizontalalignment=\"center\",\n",
    "                 color=\"white\" if cm[i, j] > thresh else \"black\")\n",
    "\n",
    "    plt.tight_layout()\n",
    "    plt.ylabel('True label')\n",
    "    plt.xlabel('Predicted label')\n",
    "print(confusion_matrix(y_test, yhat, labels=[1,0]))"
   ]
  },
  {
   "cell_type": "code",
   "execution_count": 15,
   "id": "73ccd25f-687c-4969-830d-aef68706f947",
   "metadata": {},
   "outputs": [
    {
     "name": "stdout",
     "output_type": "stream",
     "text": [
      "Confusion matrix, without normalization\n",
      "[[84 12]\n",
      " [14 74]]\n"
     ]
    },
    {
     "data": {
      "image/png": "[encoded data removed]",
      "text/plain": [
       "<Figure size 432x288 with 2 Axes>"
      ]
     },
     "metadata": {
      "needs_background": "light"
     },
     "output_type": "display_data"
    }
   ],
   "source": [
    "# Compute confusion matrix\n",
    "cnf_matrix = confusion_matrix(y_test, yhat, labels=[1,0])\n",
    "np.set_printoptions(precision=2)\n",
    "\n",
    "\n",
    "# Plot non-normalized confusion matrix\n",
    "plt.figure()\n",
    "plot_confusion_matrix(cnf_matrix, classes=['churn=1','churn=0'],normalize= False,  title='Confusion matrix')"
   ]
  },
  {
   "cell_type": "markdown",
   "id": "801f474f-acad-4d8d-a7f8-bbc397a1abe6",
   "metadata": {},
   "source": [
    "### CLASSIFICATION REPORT "
   ]
  },
  {
   "cell_type": "code",
   "execution_count": 16,
   "id": "6d1f2662-06f6-437c-8449-25c51e604b6b",
   "metadata": {},
   "outputs": [
    {
     "name": "stdout",
     "output_type": "stream",
     "text": [
      "              precision    recall  f1-score   support\n",
      "\n",
      "           0       0.86      0.84      0.85        88\n",
      "           1       0.86      0.88      0.87        96\n",
      "\n",
      "   micro avg       0.86      0.86      0.86       184\n",
      "   macro avg       0.86      0.86      0.86       184\n",
      "weighted avg       0.86      0.86      0.86       184\n",
      "\n"
     ]
    }
   ],
   "source": [
    "print (classification_report(y_test, yhat))"
   ]
  },
  {
   "cell_type": "code",
   "execution_count": 17,
   "id": "35c44536-2f0c-4b04-b9f5-59764d72e944",
   "metadata": {},
   "outputs": [
    {
     "data": {
      "text/plain": [
       "0.40241757436049463"
      ]
     },
     "execution_count": 17,
     "metadata": {},
     "output_type": "execute_result"
    }
   ],
   "source": [
    "#LOG LOSS : \n",
    "\n",
    "log_loss(y_test, yhat_prob)"
   ]
  },
  {
   "cell_type": "code",
   "execution_count": 18,
   "id": "8391481d-405a-4577-8be1-08203bb19e5d",
   "metadata": {},
   "outputs": [
    {
     "data": {
      "text/plain": [
       "Text(0.5, 1.0, 'REAL LABELS')"
      ]
     },
     "execution_count": 18,
     "metadata": {},
     "output_type": "execute_result"
    },
    {
     "data": {
      "image/png": "[encoded data removed]",
      "text/plain": [
       "<Figure size 1080x360 with 2 Axes>"
      ]
     },
     "metadata": {
      "needs_background": "light"
     },
     "output_type": "display_data"
    }
   ],
   "source": [
    "yhat_df =  pd.DataFrame(yhat, columns=['Class']).reset_index()\n",
    "ytest_df = pd.DataFrame(y_test)\n",
    "ytest_df = ytest_df.reset_index()\n",
    "yhat_bins = yhat_df.groupby('Class').count().reset_index()\n",
    "ytest_bins = ytest_df.groupby('HeartDisease').count().reset_index()\n",
    "\n",
    "fig, axes = plt.subplots(1, 2, figsize=(15, 5), sharey=True)\n",
    "fig.suptitle('PREDICTIONS VS REAL LABELS')\n",
    "\n",
    "sns.barplot(data=yhat_bins,ax=axes[0],x=\"index\", y=\"Class\",hue=\"Class\")\n",
    "axes[0].set_title('PREDICTIONS')\n",
    "sns.barplot(data=ytest_bins,ax=axes[1], x=\"index\", y=\"HeartDisease\",hue=\"HeartDisease\")\n",
    "axes[1].set_title('REAL LABELS')"
   ]
  },
  {
   "cell_type": "markdown",
   "id": "2ed0dc00-263b-4681-ab28-0479e0864412",
   "metadata": {},
   "source": [
    "# KNN IMPLEMENTATION"
   ]
  },
  {
   "cell_type": "code",
   "execution_count": 19,
   "id": "5ec275c2-f088-4bad-9352-22291bfece9f",
   "metadata": {},
   "outputs": [
    {
     "name": "stderr",
     "output_type": "stream",
     "text": [
      "/home/jupyterlab/conda/envs/python/lib/python3.7/site-packages/sklearn/neighbors/base.py:907: DeprecationWarning: `np.int` is a deprecated alias for the builtin `int`. To silence this warning, use `int` by itself. Doing this will not modify any behavior and is safe. When replacing `np.int`, you may wish to use e.g. `np.int64` or `np.int32` to specify the precision. If you wish to review your current use, check the release note link for additional information.\n",
      "Deprecated in NumPy 1.20; for more details and guidance: https://numpy.org/devdocs/release/1.20.0-notes.html#deprecations\n",
      "  self._y = np.empty(y.shape, dtype=np.int)\n",
      "/home/jupyterlab/conda/envs/python/lib/python3.7/site-packages/sklearn/neighbors/base.py:907: DeprecationWarning: `np.int` is a deprecated alias for the builtin `int`. To silence this warning, use `int` by itself. Doing this will not modify any behavior and is safe. When replacing `np.int`, you may wish to use e.g. `np.int64` or `np.int32` to specify the precision. If you wish to review your current use, check the release note link for additional information.\n",
      "Deprecated in NumPy 1.20; for more details and guidance: https://numpy.org/devdocs/release/1.20.0-notes.html#deprecations\n",
      "  self._y = np.empty(y.shape, dtype=np.int)\n",
      "/home/jupyterlab/conda/envs/python/lib/python3.7/site-packages/sklearn/neighbors/base.py:907: DeprecationWarning: `np.int` is a deprecated alias for the builtin `int`. To silence this warning, use `int` by itself. Doing this will not modify any behavior and is safe. When replacing `np.int`, you may wish to use e.g. `np.int64` or `np.int32` to specify the precision. If you wish to review your current use, check the release note link for additional information.\n",
      "Deprecated in NumPy 1.20; for more details and guidance: https://numpy.org/devdocs/release/1.20.0-notes.html#deprecations\n",
      "  self._y = np.empty(y.shape, dtype=np.int)\n",
      "/home/jupyterlab/conda/envs/python/lib/python3.7/site-packages/sklearn/neighbors/base.py:907: DeprecationWarning: `np.int` is a deprecated alias for the builtin `int`. To silence this warning, use `int` by itself. Doing this will not modify any behavior and is safe. When replacing `np.int`, you may wish to use e.g. `np.int64` or `np.int32` to specify the precision. If you wish to review your current use, check the release note link for additional information.\n",
      "Deprecated in NumPy 1.20; for more details and guidance: https://numpy.org/devdocs/release/1.20.0-notes.html#deprecations\n",
      "  self._y = np.empty(y.shape, dtype=np.int)\n",
      "/home/jupyterlab/conda/envs/python/lib/python3.7/site-packages/sklearn/neighbors/base.py:907: DeprecationWarning: `np.int` is a deprecated alias for the builtin `int`. To silence this warning, use `int` by itself. Doing this will not modify any behavior and is safe. When replacing `np.int`, you may wish to use e.g. `np.int64` or `np.int32` to specify the precision. If you wish to review your current use, check the release note link for additional information.\n",
      "Deprecated in NumPy 1.20; for more details and guidance: https://numpy.org/devdocs/release/1.20.0-notes.html#deprecations\n",
      "  self._y = np.empty(y.shape, dtype=np.int)\n",
      "/home/jupyterlab/conda/envs/python/lib/python3.7/site-packages/sklearn/neighbors/base.py:907: DeprecationWarning: `np.int` is a deprecated alias for the builtin `int`. To silence this warning, use `int` by itself. Doing this will not modify any behavior and is safe. When replacing `np.int`, you may wish to use e.g. `np.int64` or `np.int32` to specify the precision. If you wish to review your current use, check the release note link for additional information.\n",
      "Deprecated in NumPy 1.20; for more details and guidance: https://numpy.org/devdocs/release/1.20.0-notes.html#deprecations\n",
      "  self._y = np.empty(y.shape, dtype=np.int)\n",
      "/home/jupyterlab/conda/envs/python/lib/python3.7/site-packages/sklearn/neighbors/base.py:907: DeprecationWarning: `np.int` is a deprecated alias for the builtin `int`. To silence this warning, use `int` by itself. Doing this will not modify any behavior and is safe. When replacing `np.int`, you may wish to use e.g. `np.int64` or `np.int32` to specify the precision. If you wish to review your current use, check the release note link for additional information.\n",
      "Deprecated in NumPy 1.20; for more details and guidance: https://numpy.org/devdocs/release/1.20.0-notes.html#deprecations\n",
      "  self._y = np.empty(y.shape, dtype=np.int)\n",
      "/home/jupyterlab/conda/envs/python/lib/python3.7/site-packages/sklearn/neighbors/base.py:907: DeprecationWarning: `np.int` is a deprecated alias for the builtin `int`. To silence this warning, use `int` by itself. Doing this will not modify any behavior and is safe. When replacing `np.int`, you may wish to use e.g. `np.int64` or `np.int32` to specify the precision. If you wish to review your current use, check the release note link for additional information.\n",
      "Deprecated in NumPy 1.20; for more details and guidance: https://numpy.org/devdocs/release/1.20.0-notes.html#deprecations\n",
      "  self._y = np.empty(y.shape, dtype=np.int)\n",
      "/home/jupyterlab/conda/envs/python/lib/python3.7/site-packages/sklearn/neighbors/base.py:907: DeprecationWarning: `np.int` is a deprecated alias for the builtin `int`. To silence this warning, use `int` by itself. Doing this will not modify any behavior and is safe. When replacing `np.int`, you may wish to use e.g. `np.int64` or `np.int32` to specify the precision. If you wish to review your current use, check the release note link for additional information.\n",
      "Deprecated in NumPy 1.20; for more details and guidance: https://numpy.org/devdocs/release/1.20.0-notes.html#deprecations\n",
      "  self._y = np.empty(y.shape, dtype=np.int)\n"
     ]
    },
    {
     "data": {
      "text/plain": [
       "array([0.79, 0.81, 0.86, 0.85, 0.88, 0.89, 0.87, 0.88, 0.87])"
      ]
     },
     "execution_count": 19,
     "metadata": {},
     "output_type": "execute_result"
    }
   ],
   "source": [
    "#tuned hyperparameters :(best parameters)  {'algorithm': 'auto', 'n_neighbors': 8, 'p': 1}\n",
    "# train accuracy : 0.8637602179836512\n",
    "# Accuracy on test data is: 0.875\n",
    "Ks = 10\n",
    "mean_acc = np.zeros((Ks-1))\n",
    "std_acc = np.zeros((Ks-1))\n",
    "\n",
    "for n in range(1,Ks):\n",
    "    \n",
    "    #Train Model and Predict  \n",
    "    neigh = KNeighborsClassifier(algorithm='auto',n_neighbors = n,p=1).fit(X_train,y_train)\n",
    "    yhat=neigh.predict(X_test)\n",
    "    mean_acc[n-1] = metrics.accuracy_score(y_test, yhat)\n",
    "\n",
    "    \n",
    "    std_acc[n-1]=np.std(yhat==y_test)/np.sqrt(yhat.shape[0])\n",
    "\n",
    "mean_acc"
   ]
  },
  {
   "cell_type": "code",
   "execution_count": 20,
   "id": "91202a4e-c73e-4dd3-b018-2806fef6f0fd",
   "metadata": {},
   "outputs": [
    {
     "data": {
      "image/png": "[encoded data removed]",
      "text/plain": [
       "<Figure size 432x288 with 1 Axes>"
      ]
     },
     "metadata": {
      "needs_background": "light"
     },
     "output_type": "display_data"
    }
   ],
   "source": [
    "plt.plot(range(1,Ks),mean_acc,'g')\n",
    "plt.fill_between(range(1,Ks),mean_acc - 1 * std_acc,mean_acc + 1 * std_acc, alpha=0.10)\n",
    "plt.fill_between(range(1,Ks),mean_acc - 3 * std_acc,mean_acc + 3 * std_acc, alpha=0.10,color=\"green\")\n",
    "plt.legend(('Accuracy ', '+/- 1xstd','+/- 3xstd'))\n",
    "plt.ylabel('Accuracy ')\n",
    "plt.xlabel('Number of Neighbors (K)')\n",
    "plt.tight_layout()\n",
    "plt.show()"
   ]
  },
  {
   "cell_type": "code",
   "execution_count": 22,
   "id": "0893b1b8-1417-49c2-9dd0-604531908e03",
   "metadata": {},
   "outputs": [
    {
     "name": "stdout",
     "output_type": "stream",
     "text": [
      "Train set Accuracy:  0.8828337874659401\n",
      "Test set Accuracy:  0.8913043478260869\n"
     ]
    },
    {
     "name": "stderr",
     "output_type": "stream",
     "text": [
      "/home/jupyterlab/conda/envs/python/lib/python3.7/site-packages/sklearn/neighbors/base.py:907: DeprecationWarning: `np.int` is a deprecated alias for the builtin `int`. To silence this warning, use `int` by itself. Doing this will not modify any behavior and is safe. When replacing `np.int`, you may wish to use e.g. `np.int64` or `np.int32` to specify the precision. If you wish to review your current use, check the release note link for additional information.\n",
      "Deprecated in NumPy 1.20; for more details and guidance: https://numpy.org/devdocs/release/1.20.0-notes.html#deprecations\n",
      "  self._y = np.empty(y.shape, dtype=np.int)\n"
     ]
    }
   ],
   "source": [
    "k=6 \n",
    "neigh = KNeighborsClassifier(algorithm='auto',n_neighbors = k,p=1).fit(X_train,y_train)\n",
    "yhat2 = neigh.predict(X_test)\n",
    "print(\"Train set Accuracy: \", metrics.accuracy_score(y_train, neigh.predict(X_train)))\n",
    "print(\"Test set Accuracy: \", metrics.accuracy_score(y_test, yhat2))"
   ]
  },
  {
   "cell_type": "code",
   "execution_count": 23,
   "id": "3f86ec7c-ba2f-4d24-87d2-a8e90e2d0f23",
   "metadata": {},
   "outputs": [
    {
     "name": "stdout",
     "output_type": "stream",
     "text": [
      "Confusion matrix, without normalization\n",
      "[[90  6]\n",
      " [14 74]]\n"
     ]
    },
    {
     "data": {
      "image/png": "[encoded data removed]",
      "text/plain": [
       "<Figure size 432x288 with 2 Axes>"
      ]
     },
     "metadata": {
      "needs_background": "light"
     },
     "output_type": "display_data"
    }
   ],
   "source": [
    "cnf_matrix = confusion_matrix(y_test, yhat2, labels=[1,0])\n",
    "np.set_printoptions(precision=2)\n",
    "\n",
    "# Plot non-normalized confusion matrix\n",
    "plt.figure()\n",
    "plot_confusion_matrix(cnf_matrix, classes=['churn=1','churn=0'],normalize= False,  title='Confusion matrix')"
   ]
  },
  {
   "cell_type": "code",
   "execution_count": 24,
   "id": "6b7699b5-6e58-4505-a43e-2860d77a1653",
   "metadata": {},
   "outputs": [
    {
     "name": "stdout",
     "output_type": "stream",
     "text": [
      "              precision    recall  f1-score   support\n",
      "\n",
      "           0       0.93      0.84      0.88        88\n",
      "           1       0.87      0.94      0.90        96\n",
      "\n",
      "   micro avg       0.89      0.89      0.89       184\n",
      "   macro avg       0.90      0.89      0.89       184\n",
      "weighted avg       0.89      0.89      0.89       184\n",
      "\n"
     ]
    }
   ],
   "source": [
    "print (classification_report(y_test, yhat2))"
   ]
  },
  {
   "cell_type": "code",
   "execution_count": 25,
   "id": "2ad2d3b6-ff1a-4439-aa94-5ed74567af59",
   "metadata": {},
   "outputs": [
    {
     "data": {
      "text/plain": [
       "Text(0.5, 1.0, 'REAL LABELS')"
      ]
     },
     "execution_count": 25,
     "metadata": {},
     "output_type": "execute_result"
    },
    {
     "data": {
      "image/png": "[encoded data removed]",
      "text/plain": [
       "<Figure size 1080x360 with 2 Axes>"
      ]
     },
     "metadata": {
      "needs_background": "light"
     },
     "output_type": "display_data"
    }
   ],
   "source": [
    "yhat_df =  pd.DataFrame(yhat2, columns=['Class']).reset_index()\n",
    "ytest_df = pd.DataFrame(y_test)\n",
    "ytest_df = ytest_df.reset_index()\n",
    "\n",
    "yhat_bins = yhat_df.groupby('Class').count().reset_index()\n",
    "ytest_bins = ytest_df.groupby('HeartDisease').count().reset_index()\n",
    "\n",
    "\n",
    "\n",
    "\n",
    "\n",
    "\n",
    "fig, axes = plt.subplots(1, 2, figsize=(15, 5), sharey=True)\n",
    "fig.suptitle('PREDICTIONS VS REAL LABELS')\n",
    "\n",
    "sns.barplot(data=yhat_bins,ax=axes[0],x=\"index\", y=\"Class\",hue=\"Class\")\n",
    "axes[0].set_title('PREDICTIONS')\n",
    "\n",
    " \n",
    "sns.barplot(data=ytest_bins,ax=axes[1], x=\"index\", y=\"HeartDisease\",hue=\"HeartDisease\")\n",
    "axes[1].set_title('REAL LABELS')"
   ]
  },
  {
   "cell_type": "markdown",
   "id": "9a462038-cba6-4530-9556-f8c169a2187d",
   "metadata": {},
   "source": [
    "# DESICION TREE IMPLEMENTATION"
   ]
  },
  {
   "cell_type": "code",
   "execution_count": 26,
   "id": "7420e3a9-531d-4508-8673-932f6b7f31f8",
   "metadata": {},
   "outputs": [
    {
     "name": "stderr",
     "output_type": "stream",
     "text": [
      "/home/jupyterlab/conda/envs/python/lib/python3.7/site-packages/sklearn/tree/tree.py:149: DeprecationWarning: `np.int` is a deprecated alias for the builtin `int`. To silence this warning, use `int` by itself. Doing this will not modify any behavior and is safe. When replacing `np.int`, you may wish to use e.g. `np.int64` or `np.int32` to specify the precision. If you wish to review your current use, check the release note link for additional information.\n",
      "Deprecated in NumPy 1.20; for more details and guidance: https://numpy.org/devdocs/release/1.20.0-notes.html#deprecations\n",
      "  y_encoded = np.zeros(y.shape, dtype=np.int)\n"
     ]
    }
   ],
   "source": [
    "#tuned hyperparameters :(best parameters)  {'criterion': 'entropy', 'max_depth': 6, 'max_features': 'auto', 'min_samples_leaf': 2, 'min_samples_split': 10, 'splitter': 'best'}\n",
    "#accuracy : 0.8419618528610354\n",
    "#Accuracy on test data is: 0.837\n",
    "\n",
    "dTree = DecisionTreeClassifier(criterion=\"entropy\", max_depth = 6,max_features='auto',min_samples_leaf=2,min_samples_split = 10, splitter = 'best')\n",
    "dTree.fit(X_train,y_train)\n",
    "PredTree = dTree.predict(X_test)"
   ]
  },
  {
   "cell_type": "code",
   "execution_count": null,
   "id": "4a0c9fe6-dfaa-4ae3-b4d7-247f6debbf99",
   "metadata": {},
   "outputs": [],
   "source": [
    "cnf_matrix = confusion_matrix(y_test, PredTree, labels=[1,0])\n",
    "np.set_printoptions(precision=2)\n",
    "\n",
    "# Plot non-normalized confusion matrix\n",
    "plt.figure()\n",
    "plot_confusion_matrix(cnf_matrix, classes=['churn=1','churn=0'],normalize= False,  title='Confusion matrix')"
   ]
  },
  {
   "cell_type": "code",
   "execution_count": 27,
   "id": "664a0ab4-9e0b-4983-afdc-eea007f03208",
   "metadata": {},
   "outputs": [
    {
     "name": "stdout",
     "output_type": "stream",
     "text": [
      "              precision    recall  f1-score   support\n",
      "\n",
      "           0       0.88      0.65      0.75        88\n",
      "           1       0.74      0.92      0.82        96\n",
      "\n",
      "   micro avg       0.79      0.79      0.79       184\n",
      "   macro avg       0.81      0.78      0.78       184\n",
      "weighted avg       0.81      0.79      0.78       184\n",
      "\n"
     ]
    }
   ],
   "source": [
    "print (classification_report(y_test, PredTree))"
   ]
  },
  {
   "cell_type": "markdown",
   "id": "8cac8bac-5236-46f3-a8c3-b3d57b1d0886",
   "metadata": {},
   "source": [
    "# SUPPORT VECTOR MACHINE IMPLEMENTATION"
   ]
  },
  {
   "cell_type": "code",
   "execution_count": 50,
   "id": "bce55a00-9024-4382-976f-f9d539e0b2f8",
   "metadata": {},
   "outputs": [
    {
     "name": "stderr",
     "output_type": "stream",
     "text": [
      "/home/jupyterlab/conda/envs/python/lib/python3.7/site-packages/sklearn/svm/base.py:196: FutureWarning: The default value of gamma will change from 'auto' to 'scale' in version 0.22 to account better for unscaled features. Set gamma explicitly to 'auto' or 'scale' to avoid this warning.\n",
      "  \"avoid this warning.\", FutureWarning)\n"
     ]
    }
   ],
   "source": [
    "#parameters_svm = {'kernel':('linear', 'rbf','poly','rbf', 'sigmoid'),\n",
    "             #'C': np.logspace(-3, 3, 5),\n",
    "             #'gamma':np.logspace(-3, 3, 5)}\n",
    "\n",
    "# define the model\n",
    "svm0 = svm.SVC(kernel='rbf')\n",
    "svm_cv = svm0.fit(X_train,y_train)"
   ]
  },
  {
   "cell_type": "code",
   "execution_count": 51,
   "id": "837631ae-2a6e-4df7-ac69-d04afa41ef6a",
   "metadata": {},
   "outputs": [
    {
     "name": "stdout",
     "output_type": "stream",
     "text": [
      "              precision    recall  f1-score   support\n",
      "\n",
      "           0       0.85      0.78      0.82        88\n",
      "           1       0.82      0.88      0.84        96\n",
      "\n",
      "   micro avg       0.83      0.83      0.83       184\n",
      "   macro avg       0.83      0.83      0.83       184\n",
      "weighted avg       0.83      0.83      0.83       184\n",
      "\n",
      "Confusion matrix, without normalization\n",
      "[[90  6]\n",
      " [14 74]]\n"
     ]
    },
    {
     "data": {
      "image/png": "[encoded data removed]",
      "text/plain": [
       "<Figure size 432x288 with 2 Axes>"
      ]
     },
     "metadata": {
      "needs_background": "light"
     },
     "output_type": "display_data"
    }
   ],
   "source": [
    "yhat_svm = svm_cv.predict(X_test)\n",
    "SVM_matrix = confusion_matrix(y_test, yhat_svm, labels=[0,1])\n",
    "np.set_printoptions(precision=2)\n",
    "print(classification_report(y_test, yhat_svm))\n",
    "plt.figure()\n",
    "plot_confusion_matrix(cnf_matrix, classes=['NON ANOMALLY(0)','ANOMALLY(1)'],normalize= False,  title='Confusion matrix')\n",
    "\n"
   ]
  },
  {
   "cell_type": "markdown",
   "id": "ce3fc156-c356-4006-ac68-d5e3a6a283bc",
   "metadata": {},
   "source": [
    "# BEST IMPLEMENTATION IS KNN"
   ]
  },
  {
   "cell_type": "code",
   "execution_count": 52,
   "id": "d77c07d3-96cb-4c64-abd6-742826182823",
   "metadata": {},
   "outputs": [
    {
     "name": "stdout",
     "output_type": "stream",
     "text": [
      "Train set Accuracy:  0.8828337874659401\n",
      "Test set Accuracy:  0.8913043478260869\n"
     ]
    },
    {
     "name": "stderr",
     "output_type": "stream",
     "text": [
      "/home/jupyterlab/conda/envs/python/lib/python3.7/site-packages/sklearn/neighbors/base.py:907: DeprecationWarning: `np.int` is a deprecated alias for the builtin `int`. To silence this warning, use `int` by itself. Doing this will not modify any behavior and is safe. When replacing `np.int`, you may wish to use e.g. `np.int64` or `np.int32` to specify the precision. If you wish to review your current use, check the release note link for additional information.\n",
      "Deprecated in NumPy 1.20; for more details and guidance: https://numpy.org/devdocs/release/1.20.0-notes.html#deprecations\n",
      "  self._y = np.empty(y.shape, dtype=np.int)\n"
     ]
    }
   ],
   "source": [
    "k=6 \n",
    "neigh = KNeighborsClassifier(algorithm='auto',n_neighbors = k,p=1).fit(X_train,y_train)\n",
    "yhat2 = neigh.predict(X_test)\n",
    "print(\"Train set Accuracy: \", metrics.accuracy_score(y_train, neigh.predict(X_train)))\n",
    "print(\"Test set Accuracy: \", metrics.accuracy_score(y_test, yhat2))"
   ]
  },
  {
   "cell_type": "code",
   "execution_count": 53,
   "id": "fa0d8244-516a-4005-a591-1032f07166d8",
   "metadata": {},
   "outputs": [
    {
     "name": "stdout",
     "output_type": "stream",
     "text": [
      "              precision    recall  f1-score   support\n",
      "\n",
      "           0       0.93      0.84      0.88        88\n",
      "           1       0.87      0.94      0.90        96\n",
      "\n",
      "   micro avg       0.89      0.89      0.89       184\n",
      "   macro avg       0.90      0.89      0.89       184\n",
      "weighted avg       0.89      0.89      0.89       184\n",
      "\n"
     ]
    }
   ],
   "source": [
    "print (classification_report(y_test, yhat2))"
   ]
  },
  {
   "cell_type": "code",
   "execution_count": null,
   "id": "7b6381c8-5608-453e-8a7f-67e5795f52d6",
   "metadata": {},
   "outputs": [],
   "source": []
  }
 ],
 "metadata": {
  "kernelspec": {
   "display_name": "Python",
   "language": "python",
   "name": "conda-env-python-py"
  },
  "language_info": {
   "codemirror_mode": {
    "name": "ipython",
    "version": 3
   },
   "file_extension": ".py",
   "mimetype": "text/x-python",
   "name": "python",
   "nbconvert_exporter": "python",
   "pygments_lexer": "ipython3",
   "version": "3.7.12"
  }
 },
 "nbformat": 4,
 "nbformat_minor": 5
}